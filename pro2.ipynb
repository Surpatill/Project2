{
 "cells": [
  {
   "cell_type": "markdown",
   "metadata": {},
   "source": [
    "DATASET-1 ->"
   ]
  },
  {
   "cell_type": "markdown",
   "metadata": {},
   "source": [
    "Data Acquisition"
   ]
  },
  {
   "cell_type": "code",
   "execution_count": 85,
   "metadata": {},
   "outputs": [],
   "source": [
    "import pandas as pd\n",
    "import numpy as np"
   ]
  },
  {
   "cell_type": "code",
   "execution_count": 86,
   "metadata": {},
   "outputs": [],
   "source": [
    "dataset1 = pd.read_csv('dataset_1.csv')\n",
    "dataset2 = pd.read_excel('dataset_2.xlsx')"
   ]
  },
  {
   "cell_type": "code",
   "execution_count": 87,
   "metadata": {},
   "outputs": [],
   "source": [
    "dataset1['dteday'] = pd.to_datetime(dataset1['dteday'], errors='coerce')"
   ]
  },
  {
   "cell_type": "markdown",
   "metadata": {},
   "source": [
    "Data Wrangling"
   ]
  },
  {
   "cell_type": "code",
   "execution_count": 88,
   "metadata": {},
   "outputs": [
    {
     "name": "stdout",
     "output_type": "stream",
     "text": [
      "333\n"
     ]
    }
   ],
   "source": [
    "print(dataset1['dteday'].isnull().sum())"
   ]
  },
  {
   "cell_type": "code",
   "execution_count": 89,
   "metadata": {},
   "outputs": [
    {
     "name": "stdout",
     "output_type": "stream",
     "text": [
      "0    2011\n",
      "1    2011\n",
      "2    2011\n",
      "3    2011\n",
      "4    2011\n",
      "Name: dteday, dtype: int32\n",
      "0    1\n",
      "1    1\n",
      "2    1\n",
      "3    1\n",
      "4    1\n",
      "Name: dteday, dtype: int32\n"
     ]
    }
   ],
   "source": [
    "dataset1.dropna(subset=['dteday'], inplace=True)\n",
    "print(dataset1['dteday'].dt.year.head())\n",
    "print(dataset1['dteday'].dt.month.head())"
   ]
  },
  {
   "cell_type": "code",
   "execution_count": 90,
   "metadata": {},
   "outputs": [],
   "source": [
    "dataset1['weekday'] = dataset1['dteday'].dt.dayofweek\n",
    "dataset1['month'] = dataset1['dteday'].dt.month\n",
    "dataset1['quarter'] = dataset1['dteday'].dt.quarter"
   ]
  },
  {
   "cell_type": "code",
   "execution_count": 91,
   "metadata": {},
   "outputs": [],
   "source": [
    "dataset1.drop(['dteday'],axis=1,inplace=True)"
   ]
  },
  {
   "cell_type": "code",
   "execution_count": 92,
   "metadata": {},
   "outputs": [
    {
     "name": "stdout",
     "output_type": "stream",
     "text": [
      "         instant  season     yr   mnth          hr     weekday  weathersit  \\\n",
      "count  277.00000   277.0  277.0  277.0  277.000000  277.000000  277.000000   \n",
      "mean   139.00000     1.0    0.0    1.0   11.826715    2.935018    1.411552   \n",
      "std     80.10722     0.0    0.0    0.0    6.868243    1.856081    0.611138   \n",
      "min      1.00000     1.0    0.0    1.0    0.000000    0.000000    1.000000   \n",
      "25%     70.00000     1.0    0.0    1.0    6.000000    1.000000    1.000000   \n",
      "50%    139.00000     1.0    0.0    1.0   12.000000    3.000000    1.000000   \n",
      "75%    208.00000     1.0    0.0    1.0   18.000000    5.000000    2.000000   \n",
      "max    277.00000     1.0    0.0    1.0   23.000000    6.000000    3.000000   \n",
      "\n",
      "             temp       month     quarter  \n",
      "count  277.000000  277.000000  277.000000  \n",
      "mean     0.210830    6.483755    2.498195  \n",
      "std      0.083828    3.445842    1.115193  \n",
      "min      0.080000    1.000000    1.000000  \n",
      "25%      0.160000    4.000000    2.000000  \n",
      "50%      0.200000    7.000000    3.000000  \n",
      "75%      0.240000    9.000000    3.000000  \n",
      "max      0.460000   12.000000    4.000000  \n"
     ]
    }
   ],
   "source": [
    "print(dataset1.describe())"
   ]
  },
  {
   "cell_type": "code",
   "execution_count": 93,
   "metadata": {},
   "outputs": [],
   "source": [
    "dataset1['holiday'] = dataset1['holiday'].map({'Yes': 1, 'No': 0})\n",
    "dataset1['weekday'] = dataset1['weekday'].map({'Yes': 1, 'No': 0})"
   ]
  },
  {
   "cell_type": "code",
   "execution_count": 94,
   "metadata": {},
   "outputs": [
    {
     "name": "stdout",
     "output_type": "stream",
     "text": [
      "instant       139.000000\n",
      "season          1.000000\n",
      "yr              0.000000\n",
      "mnth            1.000000\n",
      "hr             11.826715\n",
      "holiday              NaN\n",
      "weekday              NaN\n",
      "weathersit      1.411552\n",
      "temp            0.210830\n",
      "month           6.483755\n",
      "quarter         2.498195\n",
      "dtype: float64\n",
      "instant       139.0\n",
      "season          1.0\n",
      "yr              0.0\n",
      "mnth            1.0\n",
      "hr             12.0\n",
      "holiday         NaN\n",
      "weekday         NaN\n",
      "weathersit      1.0\n",
      "temp            0.2\n",
      "month           7.0\n",
      "quarter         3.0\n",
      "dtype: float64\n",
      "     instant  season   yr  mnth   hr  holiday  weekday  weathersit  temp  \\\n",
      "0          1     1.0  0.0   1.0  0.0      NaN      NaN         1.0   0.2   \n",
      "1          2     NaN  NaN   NaN  1.0      NaN      NaN         NaN   NaN   \n",
      "2          3     NaN  NaN   NaN  6.0      NaN      NaN         NaN   NaN   \n",
      "3          4     NaN  NaN   NaN  7.0      NaN      NaN         NaN   NaN   \n",
      "4          5     NaN  NaN   NaN  8.0      NaN      NaN         NaN   NaN   \n",
      "..       ...     ...  ...   ...  ...      ...      ...         ...   ...   \n",
      "272      273     NaN  NaN   NaN  NaN      NaN      NaN         NaN   NaN   \n",
      "273      274     NaN  NaN   NaN  NaN      NaN      NaN         NaN   NaN   \n",
      "274      275     NaN  NaN   NaN  NaN      NaN      NaN         NaN   NaN   \n",
      "275      276     NaN  NaN   NaN  NaN      NaN      NaN         NaN   NaN   \n",
      "276      277     NaN  NaN   NaN  NaN      NaN      NaN         NaN   NaN   \n",
      "\n",
      "     month  quarter  \n",
      "0      1.0      3.0  \n",
      "1      8.0      NaN  \n",
      "2      9.0      NaN  \n",
      "3     10.0      NaN  \n",
      "4      NaN      NaN  \n",
      "..     ...      ...  \n",
      "272    NaN      NaN  \n",
      "273    NaN      NaN  \n",
      "274    NaN      NaN  \n",
      "275    NaN      NaN  \n",
      "276    NaN      NaN  \n",
      "\n",
      "[277 rows x 11 columns]\n"
     ]
    }
   ],
   "source": [
    "print(dataset1.mean())\n",
    "print(dataset1.median())\n",
    "print(dataset1.mode())"
   ]
  },
  {
   "cell_type": "code",
   "execution_count": 95,
   "metadata": {},
   "outputs": [
    {
     "name": "stdout",
     "output_type": "stream",
     "text": [
      "instant       277\n",
      "season          1\n",
      "yr              1\n",
      "mnth            1\n",
      "hr             24\n",
      "holiday         0\n",
      "weekday         0\n",
      "weathersit      3\n",
      "temp           20\n",
      "month          12\n",
      "quarter         4\n",
      "dtype: int64\n"
     ]
    }
   ],
   "source": [
    "print(dataset1.nunique())"
   ]
  },
  {
   "cell_type": "code",
   "execution_count": 96,
   "metadata": {},
   "outputs": [
    {
     "name": "stdout",
     "output_type": "stream",
     "text": [
      "(277, 11)\n"
     ]
    }
   ],
   "source": [
    "print(dataset1.shape)"
   ]
  },
  {
   "cell_type": "code",
   "execution_count": 97,
   "metadata": {},
   "outputs": [
    {
     "name": "stdout",
     "output_type": "stream",
     "text": [
      "<class 'pandas.core.frame.DataFrame'>\n",
      "Index: 277 entries, 0 to 276\n",
      "Data columns (total 11 columns):\n",
      " #   Column      Non-Null Count  Dtype  \n",
      "---  ------      --------------  -----  \n",
      " 0   instant     277 non-null    int64  \n",
      " 1   season      277 non-null    int64  \n",
      " 2   yr          277 non-null    int64  \n",
      " 3   mnth        277 non-null    int64  \n",
      " 4   hr          277 non-null    int64  \n",
      " 5   holiday     0 non-null      float64\n",
      " 6   weekday     0 non-null      float64\n",
      " 7   weathersit  277 non-null    int64  \n",
      " 8   temp        277 non-null    float64\n",
      " 9   month       277 non-null    int32  \n",
      " 10  quarter     277 non-null    int32  \n",
      "dtypes: float64(3), int32(2), int64(6)\n",
      "memory usage: 23.8 KB\n",
      "None\n"
     ]
    }
   ],
   "source": [
    "print(dataset1.info())"
   ]
  },
  {
   "cell_type": "markdown",
   "metadata": {},
   "source": [
    "DATASET-2 -> "
   ]
  },
  {
   "cell_type": "markdown",
   "metadata": {},
   "source": [
    "Data Acquisition"
   ]
  },
  {
   "cell_type": "code",
   "execution_count": 98,
   "metadata": {},
   "outputs": [
    {
     "name": "stdout",
     "output_type": "stream",
     "text": [
      "Index(['Unnamed: 0', 'instant', 'atemp', 'hum', 'windspeed', 'casual',\n",
      "       'registered', 'cnt'],\n",
      "      dtype='object')\n"
     ]
    }
   ],
   "source": [
    "print(dataset2.columns)"
   ]
  },
  {
   "cell_type": "code",
   "execution_count": 99,
   "metadata": {},
   "outputs": [],
   "source": [
    "import pandas as pd\n",
    "import numpy as np\n",
    "import matplotlib.pyplot as plt\n",
    "from sklearn.model_selection import train_test_split\n",
    "from sklearn.linear_model import LinearRegression\n",
    "from sklearn.metrics import mean_squared_error"
   ]
  },
  {
   "cell_type": "code",
   "execution_count": 100,
   "metadata": {},
   "outputs": [],
   "source": [
    "dataset2.drop('Unnamed: 0', axis=1, inplace=True)"
   ]
  },
  {
   "cell_type": "code",
   "execution_count": 101,
   "metadata": {},
   "outputs": [
    {
     "name": "stdout",
     "output_type": "stream",
     "text": [
      "   instant   atemp   hum  windspeed  casual  registered  cnt\n",
      "0        1  0.2879  0.81        0.0       3          13   16\n",
      "1        2  0.2727  0.80        0.0       8          32   40\n",
      "2        3  0.2727  0.80        0.0       5          27   32\n",
      "3        4  0.2879  0.75        0.0       3          10   13\n",
      "4        5  0.2879  0.75        0.0       0           1    1\n"
     ]
    }
   ],
   "source": [
    "print(dataset2.head())\n"
   ]
  },
  {
   "cell_type": "markdown",
   "metadata": {},
   "source": [
    "Data Wrangling"
   ]
  },
  {
   "cell_type": "code",
   "execution_count": 102,
   "metadata": {},
   "outputs": [
    {
     "name": "stdout",
     "output_type": "stream",
     "text": [
      "<class 'pandas.core.frame.DataFrame'>\n",
      "RangeIndex: 610 entries, 0 to 609\n",
      "Data columns (total 7 columns):\n",
      " #   Column      Non-Null Count  Dtype  \n",
      "---  ------      --------------  -----  \n",
      " 0   instant     610 non-null    int64  \n",
      " 1   atemp       599 non-null    float64\n",
      " 2   hum         610 non-null    float64\n",
      " 3   windspeed   610 non-null    float64\n",
      " 4   casual      610 non-null    int64  \n",
      " 5   registered  610 non-null    int64  \n",
      " 6   cnt         610 non-null    int64  \n",
      "dtypes: float64(3), int64(4)\n",
      "memory usage: 33.5 KB\n",
      "None\n"
     ]
    }
   ],
   "source": [
    "print(dataset2.info())"
   ]
  },
  {
   "cell_type": "code",
   "execution_count": 103,
   "metadata": {},
   "outputs": [
    {
     "name": "stdout",
     "output_type": "stream",
     "text": [
      "          instant       atemp         hum   windspeed      casual  registered  \\\n",
      "count  610.000000  599.000000  610.000000  610.000000  610.000000  610.000000   \n",
      "mean   305.500000    0.199935    0.562475    0.204851    4.501639   51.068852   \n",
      "std    176.236111    0.078836    0.175440    0.121806    6.319945   47.021204   \n",
      "min      1.000000    0.000000    0.210000    0.000000    0.000000    0.000000   \n",
      "25%    153.250000    0.151500    0.432500    0.104500    0.000000   14.000000   \n",
      "50%    305.500000    0.197000    0.520000    0.194000    2.000000   43.000000   \n",
      "75%    457.750000    0.242400    0.690000    0.283600    6.000000   70.000000   \n",
      "max    610.000000    0.454500    1.000000    0.582100   47.000000  247.000000   \n",
      "\n",
      "              cnt  \n",
      "count  610.000000  \n",
      "mean    55.570492  \n",
      "std     49.316802  \n",
      "min      1.000000  \n",
      "25%     16.000000  \n",
      "50%     47.000000  \n",
      "75%     79.750000  \n",
      "max    249.000000  \n"
     ]
    }
   ],
   "source": [
    "print(dataset2.describe())"
   ]
  },
  {
   "cell_type": "code",
   "execution_count": 104,
   "metadata": {},
   "outputs": [
    {
     "name": "stdout",
     "output_type": "stream",
     "text": [
      "instant         int64\n",
      "atemp         float64\n",
      "hum           float64\n",
      "windspeed     float64\n",
      "casual          int64\n",
      "registered      int64\n",
      "cnt             int64\n",
      "dtype: object\n"
     ]
    }
   ],
   "source": [
    "print(dataset2.dtypes)"
   ]
  },
  {
   "cell_type": "code",
   "execution_count": 105,
   "metadata": {},
   "outputs": [
    {
     "name": "stdout",
     "output_type": "stream",
     "text": [
      "instant        0\n",
      "atemp         11\n",
      "hum            0\n",
      "windspeed      0\n",
      "casual         0\n",
      "registered     0\n",
      "cnt            0\n",
      "dtype: int64\n"
     ]
    }
   ],
   "source": [
    "print(dataset2.isnull().sum())\n",
    "dataset2.fillna(dataset2.mean(), inplace=True)"
   ]
  },
  {
   "cell_type": "code",
   "execution_count": 106,
   "metadata": {},
   "outputs": [
    {
     "name": "stdout",
     "output_type": "stream",
     "text": [
      "instant       305.500000\n",
      "atemp           0.199935\n",
      "hum             0.562475\n",
      "windspeed       0.204851\n",
      "casual          4.501639\n",
      "registered     51.068852\n",
      "cnt            55.570492\n",
      "dtype: float64\n",
      "instant       305.500\n",
      "atemp           0.197\n",
      "hum             0.520\n",
      "windspeed       0.194\n",
      "casual          2.000\n",
      "registered     43.000\n",
      "cnt            47.000\n",
      "dtype: float64\n",
      "     instant  atemp   hum  windspeed  casual  registered  cnt\n",
      "0          1  0.197  0.47     0.1642     0.0         1.0  1.0\n",
      "1          2    NaN   NaN        NaN     NaN         NaN  NaN\n",
      "2          3    NaN   NaN        NaN     NaN         NaN  NaN\n",
      "3          4    NaN   NaN        NaN     NaN         NaN  NaN\n",
      "4          5    NaN   NaN        NaN     NaN         NaN  NaN\n",
      "..       ...    ...   ...        ...     ...         ...  ...\n",
      "605      606    NaN   NaN        NaN     NaN         NaN  NaN\n",
      "606      607    NaN   NaN        NaN     NaN         NaN  NaN\n",
      "607      608    NaN   NaN        NaN     NaN         NaN  NaN\n",
      "608      609    NaN   NaN        NaN     NaN         NaN  NaN\n",
      "609      610    NaN   NaN        NaN     NaN         NaN  NaN\n",
      "\n",
      "[610 rows x 7 columns]\n"
     ]
    }
   ],
   "source": [
    "print(dataset2.mean())\n",
    "print(dataset2.median())\n",
    "print(dataset2.mode())"
   ]
  },
  {
   "cell_type": "code",
   "execution_count": 107,
   "metadata": {},
   "outputs": [],
   "source": [
    "dataset2['instant'] = pd.to_datetime(dataset2['instant'], unit='s')"
   ]
  },
  {
   "cell_type": "code",
   "execution_count": 108,
   "metadata": {},
   "outputs": [],
   "source": [
    "dataset2['hour'] = dataset2['instant'].dt.hour\n",
    "dataset2['day'] = dataset2['instant'].dt.day\n",
    "dataset2['month'] = dataset2['instant'].dt.month\n",
    "dataset2['year'] = dataset2['instant'].dt.year"
   ]
  },
  {
   "cell_type": "code",
   "execution_count": 109,
   "metadata": {},
   "outputs": [],
   "source": [
    "dataset2.drop('instant', axis=1, inplace=True)"
   ]
  },
  {
   "cell_type": "code",
   "execution_count": 110,
   "metadata": {},
   "outputs": [
    {
     "name": "stdout",
     "output_type": "stream",
     "text": [
      "            atemp         hum   windspeed      casual  registered         cnt  \\\n",
      "count  610.000000  610.000000  610.000000  610.000000  610.000000  610.000000   \n",
      "mean     0.199935    0.562475    0.204851    4.501639   51.068852   55.570492   \n",
      "std      0.078120    0.175440    0.121806    6.319945   47.021204   49.316802   \n",
      "min      0.000000    0.210000    0.000000    0.000000    0.000000    1.000000   \n",
      "25%      0.151500    0.432500    0.104500    0.000000   14.000000   16.000000   \n",
      "50%      0.197000    0.520000    0.194000    2.000000   43.000000   47.000000   \n",
      "75%      0.227300    0.690000    0.283600    6.000000   70.000000   79.750000   \n",
      "max      0.454500    1.000000    0.582100   47.000000  247.000000  249.000000   \n",
      "\n",
      "        hour    day  month    year  \n",
      "count  610.0  610.0  610.0   610.0  \n",
      "mean     0.0    1.0    1.0  1970.0  \n",
      "std      0.0    0.0    0.0     0.0  \n",
      "min      0.0    1.0    1.0  1970.0  \n",
      "25%      0.0    1.0    1.0  1970.0  \n",
      "50%      0.0    1.0    1.0  1970.0  \n",
      "75%      0.0    1.0    1.0  1970.0  \n",
      "max      0.0    1.0    1.0  1970.0  \n"
     ]
    }
   ],
   "source": [
    "print(dataset2.describe())"
   ]
  },
  {
   "cell_type": "code",
   "execution_count": 111,
   "metadata": {},
   "outputs": [
    {
     "data": {
      "image/png": "[encoded data removed]",
      "text/plain": [
       "<Figure size 1000x600 with 4 Axes>"
      ]
     },
     "metadata": {},
     "output_type": "display_data"
    }
   ],
   "source": [
    "plt.figure(figsize=(10, 6))\n",
    "plt.subplot(2, 2, 1)\n",
    "plt.hist(dataset2['atemp'], bins=20)\n",
    "plt.title('Temperature Distribution')\n",
    "\n",
    "plt.subplot(2, 2, 2)\n",
    "plt.hist(dataset2['hum'], bins=20)\n",
    "plt.title('Humidity Distribution')\n",
    "\n",
    "plt.subplot(2, 2, 3)\n",
    "plt.hist(dataset2['windspeed'], bins=20)\n",
    "plt.title('Wind Speed Distribution')\n",
    "\n",
    "plt.subplot(2, 2, 4)\n",
    "plt.hist(dataset2['cnt'], bins=20)\n",
    "plt.title('Count Distribution')\n",
    "plt.tight_layout()\n",
    "plt.show()"
   ]
  },
  {
   "cell_type": "code",
   "execution_count": 112,
   "metadata": {},
   "outputs": [
    {
     "data": {
      "image/png": "[encoded data removed]",
      "text/plain": [
       "<Figure size 800x600 with 1 Axes>"
      ]
     },
     "metadata": {},
     "output_type": "display_data"
    },
    {
     "data": {
      "image/png": "[encoded data removed]",
      "text/plain": [
       "<Figure size 800x600 with 1 Axes>"
      ]
     },
     "metadata": {},
     "output_type": "display_data"
    }
   ],
   "source": [
    "plt.figure(figsize=(8,6))\n",
    "plt.scatter(dataset2['atemp'], dataset2['hum'])\n",
    "plt.title('Temperature vs Humidity')\n",
    "plt.xlabel('Temperature')\n",
    "plt.ylabel('Humidity')\n",
    "plt.show()\n",
    "\n",
    "plt.figure(figsize=(8,6))\n",
    "plt.scatter(dataset2['windspeed'], dataset2['cnt'])\n",
    "plt.title('Wind Speed vs Count')\n",
    "plt.xlabel('Wind Speed')\n",
    "plt.ylabel('Count')\n",
    "plt.show()"
   ]
  },
  {
   "cell_type": "code",
   "execution_count": 113,
   "metadata": {},
   "outputs": [
    {
     "name": "stdout",
     "output_type": "stream",
     "text": [
      "instant         int64\n",
      "season          int64\n",
      "yr              int64\n",
      "mnth            int64\n",
      "hr              int64\n",
      "holiday       float64\n",
      "weekday       float64\n",
      "weathersit      int64\n",
      "temp          float64\n",
      "month           int32\n",
      "quarter         int32\n",
      "dtype: object\n",
      "atemp         float64\n",
      "hum           float64\n",
      "windspeed     float64\n",
      "casual          int64\n",
      "registered      int64\n",
      "cnt             int64\n",
      "hour            int32\n",
      "day             int32\n",
      "month           int32\n",
      "year            int32\n",
      "dtype: object\n"
     ]
    }
   ],
   "source": [
    "print(dataset1.dtypes)\n",
    "print(dataset2.dtypes)"
   ]
  },
  {
   "cell_type": "code",
   "execution_count": 114,
   "metadata": {},
   "outputs": [],
   "source": [
    "dataset2[['hour', 'day', 'month', 'year']] = dataset2[['hour', 'day', 'month', 'year']].astype('int64')"
   ]
  },
  {
   "cell_type": "code",
   "execution_count": 115,
   "metadata": {},
   "outputs": [],
   "source": [
    "dataset2 = dataset2.rename(columns={'atemp': 'temp'})"
   ]
  },
  {
   "cell_type": "markdown",
   "metadata": {},
   "source": [
    "COMBINING DATASET-1 & DATASET-2 ->"
   ]
  },
  {
   "cell_type": "code",
   "execution_count": 116,
   "metadata": {},
   "outputs": [],
   "source": [
    "combine_data1 = pd.concat([dataset1, dataset2], ignore_index=True)"
   ]
  },
  {
   "cell_type": "code",
   "execution_count": 117,
   "metadata": {},
   "outputs": [
    {
     "name": "stdout",
     "output_type": "stream",
     "text": [
      "<class 'pandas.core.frame.DataFrame'>\n",
      "RangeIndex: 887 entries, 0 to 886\n",
      "Data columns (total 19 columns):\n",
      " #   Column      Non-Null Count  Dtype  \n",
      "---  ------      --------------  -----  \n",
      " 0   instant     277 non-null    float64\n",
      " 1   season      277 non-null    float64\n",
      " 2   yr          277 non-null    float64\n",
      " 3   mnth        277 non-null    float64\n",
      " 4   hr          277 non-null    float64\n",
      " 5   holiday     0 non-null      float64\n",
      " 6   weekday     0 non-null      float64\n",
      " 7   weathersit  277 non-null    float64\n",
      " 8   temp        887 non-null    float64\n",
      " 9   month       887 non-null    int64  \n",
      " 10  quarter     277 non-null    float64\n",
      " 11  hum         610 non-null    float64\n",
      " 12  windspeed   610 non-null    float64\n",
      " 13  casual      610 non-null    float64\n",
      " 14  registered  610 non-null    float64\n",
      " 15  cnt         610 non-null    float64\n",
      " 16  hour        610 non-null    float64\n",
      " 17  day         610 non-null    float64\n",
      " 18  year        610 non-null    float64\n",
      "dtypes: float64(18), int64(1)\n",
      "memory usage: 131.8 KB\n",
      "None\n",
      "         instant  season     yr   mnth          hr  holiday  weekday  \\\n",
      "count  277.00000   277.0  277.0  277.0  277.000000      0.0      0.0   \n",
      "mean   139.00000     1.0    0.0    1.0   11.826715      NaN      NaN   \n",
      "std     80.10722     0.0    0.0    0.0    6.868243      NaN      NaN   \n",
      "min      1.00000     1.0    0.0    1.0    0.000000      NaN      NaN   \n",
      "25%     70.00000     1.0    0.0    1.0    6.000000      NaN      NaN   \n",
      "50%    139.00000     1.0    0.0    1.0   12.000000      NaN      NaN   \n",
      "75%    208.00000     1.0    0.0    1.0   18.000000      NaN      NaN   \n",
      "max    277.00000     1.0    0.0    1.0   23.000000      NaN      NaN   \n",
      "\n",
      "       weathersit        temp       month     quarter         hum   windspeed  \\\n",
      "count  277.000000  887.000000  887.000000  277.000000  610.000000  610.000000   \n",
      "mean     1.411552    0.203337    2.712514    2.498195    0.562475    0.204851   \n",
      "std      0.611138    0.080059    3.188171    1.115193    0.175440    0.121806   \n",
      "min      1.000000    0.000000    1.000000    1.000000    0.210000    0.000000   \n",
      "25%      1.000000    0.151500    1.000000    2.000000    0.432500    0.104500   \n",
      "50%      1.000000    0.197000    1.000000    3.000000    0.520000    0.194000   \n",
      "75%      2.000000    0.240000    3.000000    3.000000    0.690000    0.283600   \n",
      "max      3.000000    0.460000   12.000000    4.000000    1.000000    0.582100   \n",
      "\n",
      "           casual  registered         cnt   hour    day    year  \n",
      "count  610.000000  610.000000  610.000000  610.0  610.0   610.0  \n",
      "mean     4.501639   51.068852   55.570492    0.0    1.0  1970.0  \n",
      "std      6.319945   47.021204   49.316802    0.0    0.0     0.0  \n",
      "min      0.000000    0.000000    1.000000    0.0    1.0  1970.0  \n",
      "25%      0.000000   14.000000   16.000000    0.0    1.0  1970.0  \n",
      "50%      2.000000   43.000000   47.000000    0.0    1.0  1970.0  \n",
      "75%      6.000000   70.000000   79.750000    0.0    1.0  1970.0  \n",
      "max     47.000000  247.000000  249.000000    0.0    1.0  1970.0  \n"
     ]
    }
   ],
   "source": [
    "print(combine_data1.info())\n",
    "print(combine_data1.describe())"
   ]
  },
  {
   "cell_type": "code",
   "execution_count": 118,
   "metadata": {},
   "outputs": [
    {
     "name": "stdout",
     "output_type": "stream",
     "text": [
      "4\n"
     ]
    }
   ],
   "source": [
    "print(combine_data1.duplicated().sum())"
   ]
  },
  {
   "cell_type": "code",
   "execution_count": 119,
   "metadata": {},
   "outputs": [
    {
     "name": "stdout",
     "output_type": "stream",
     "text": [
      "instant       float64\n",
      "season        float64\n",
      "yr            float64\n",
      "mnth          float64\n",
      "hr            float64\n",
      "holiday       float64\n",
      "weekday       float64\n",
      "weathersit    float64\n",
      "temp          float64\n",
      "month           int64\n",
      "quarter       float64\n",
      "hum           float64\n",
      "windspeed     float64\n",
      "casual        float64\n",
      "registered    float64\n",
      "cnt           float64\n",
      "hour          float64\n",
      "day           float64\n",
      "year          float64\n",
      "dtype: object\n"
     ]
    }
   ],
   "source": [
    "print(combine_data1.dtypes)"
   ]
  },
  {
   "cell_type": "code",
   "execution_count": 120,
   "metadata": {},
   "outputs": [],
   "source": [
    "combine_data1 = combine_data1.drop_duplicates()"
   ]
  },
  {
   "cell_type": "code",
   "execution_count": 121,
   "metadata": {},
   "outputs": [],
   "source": [
    "combine_data1 = combine_data1.dropna()"
   ]
  },
  {
   "cell_type": "code",
   "execution_count": 122,
   "metadata": {},
   "outputs": [
    {
     "name": "stdout",
     "output_type": "stream",
     "text": [
      "<class 'pandas.core.frame.DataFrame'>\n",
      "Index: 0 entries\n",
      "Data columns (total 19 columns):\n",
      " #   Column      Non-Null Count  Dtype  \n",
      "---  ------      --------------  -----  \n",
      " 0   instant     0 non-null      float64\n",
      " 1   season      0 non-null      float64\n",
      " 2   yr          0 non-null      float64\n",
      " 3   mnth        0 non-null      float64\n",
      " 4   hr          0 non-null      float64\n",
      " 5   holiday     0 non-null      float64\n",
      " 6   weekday     0 non-null      float64\n",
      " 7   weathersit  0 non-null      float64\n",
      " 8   temp        0 non-null      float64\n",
      " 9   month       0 non-null      int64  \n",
      " 10  quarter     0 non-null      float64\n",
      " 11  hum         0 non-null      float64\n",
      " 12  windspeed   0 non-null      float64\n",
      " 13  casual      0 non-null      float64\n",
      " 14  registered  0 non-null      float64\n",
      " 15  cnt         0 non-null      float64\n",
      " 16  hour        0 non-null      float64\n",
      " 17  day         0 non-null      float64\n",
      " 18  year        0 non-null      float64\n",
      "dtypes: float64(18), int64(1)\n",
      "memory usage: 0.0 bytes\n",
      "None\n",
      "       instant  season   yr  mnth   hr  holiday  weekday  weathersit  temp  \\\n",
      "count      0.0     0.0  0.0   0.0  0.0      0.0      0.0         0.0   0.0   \n",
      "mean       NaN     NaN  NaN   NaN  NaN      NaN      NaN         NaN   NaN   \n",
      "std        NaN     NaN  NaN   NaN  NaN      NaN      NaN         NaN   NaN   \n",
      "min        NaN     NaN  NaN   NaN  NaN      NaN      NaN         NaN   NaN   \n",
      "25%        NaN     NaN  NaN   NaN  NaN      NaN      NaN         NaN   NaN   \n",
      "50%        NaN     NaN  NaN   NaN  NaN      NaN      NaN         NaN   NaN   \n",
      "75%        NaN     NaN  NaN   NaN  NaN      NaN      NaN         NaN   NaN   \n",
      "max        NaN     NaN  NaN   NaN  NaN      NaN      NaN         NaN   NaN   \n",
      "\n",
      "       month  quarter  hum  windspeed  casual  registered  cnt  hour  day  \\\n",
      "count    0.0      0.0  0.0        0.0     0.0         0.0  0.0   0.0  0.0   \n",
      "mean     NaN      NaN  NaN        NaN     NaN         NaN  NaN   NaN  NaN   \n",
      "std      NaN      NaN  NaN        NaN     NaN         NaN  NaN   NaN  NaN   \n",
      "min      NaN      NaN  NaN        NaN     NaN         NaN  NaN   NaN  NaN   \n",
      "25%      NaN      NaN  NaN        NaN     NaN         NaN  NaN   NaN  NaN   \n",
      "50%      NaN      NaN  NaN        NaN     NaN         NaN  NaN   NaN  NaN   \n",
      "75%      NaN      NaN  NaN        NaN     NaN         NaN  NaN   NaN  NaN   \n",
      "max      NaN      NaN  NaN        NaN     NaN         NaN  NaN   NaN  NaN   \n",
      "\n",
      "       year  \n",
      "count   0.0  \n",
      "mean    NaN  \n",
      "std     NaN  \n",
      "min     NaN  \n",
      "25%     NaN  \n",
      "50%     NaN  \n",
      "75%     NaN  \n",
      "max     NaN  \n"
     ]
    }
   ],
   "source": [
    "print(combine_data1.info())\n",
    "print(combine_data1.describe())"
   ]
  },
  {
   "cell_type": "code",
   "execution_count": 123,
   "metadata": {},
   "outputs": [
    {
     "name": "stderr",
     "output_type": "stream",
     "text": [
      "c:\\Users\\Surabhi\\AppData\\Local\\Programs\\Python\\Python312\\Lib\\site-packages\\seaborn\\matrix.py:202: RuntimeWarning: All-NaN slice encountered\n",
      "  vmin = np.nanmin(calc_data)\n",
      "c:\\Users\\Surabhi\\AppData\\Local\\Programs\\Python\\Python312\\Lib\\site-packages\\seaborn\\matrix.py:207: RuntimeWarning: All-NaN slice encountered\n",
      "  vmax = np.nanmax(calc_data)\n"
     ]
    },
    {
     "data": {
      "image/png": "[encoded data removed]",
      "text/plain": [
       "<Figure size 640x480 with 2 Axes>"
      ]
     },
     "metadata": {},
     "output_type": "display_data"
    }
   ],
   "source": [
    "import matplotlib.pyplot as plt\n",
    "import seaborn as sns\n",
    "corr = combine_data1.corr()\n",
    "sns.heatmap(corr, annot=True)\n",
    "plt.show()\n"
   ]
  },
  {
   "cell_type": "markdown",
   "metadata": {},
   "source": [
    "DATASET-3 ->"
   ]
  },
  {
   "cell_type": "markdown",
   "metadata": {},
   "source": [
    "Data Acquisition"
   ]
  },
  {
   "cell_type": "code",
   "execution_count": 124,
   "metadata": {},
   "outputs": [],
   "source": [
    "dataset3 = pd.read_csv('dataset_3.csv')"
   ]
  },
  {
   "cell_type": "code",
   "execution_count": 125,
   "metadata": {},
   "outputs": [],
   "source": [
    "import pandas as pd\n",
    "import numpy as np\n",
    "from scipy import stats"
   ]
  },
  {
   "cell_type": "markdown",
   "metadata": {},
   "source": [
    "Data Wrangling"
   ]
  },
  {
   "cell_type": "code",
   "execution_count": 126,
   "metadata": {},
   "outputs": [
    {
     "name": "stdout",
     "output_type": "stream",
     "text": [
      "instant       0\n",
      "dteday        0\n",
      "season        0\n",
      "yr            0\n",
      "mnth          0\n",
      "hr            0\n",
      "holiday       0\n",
      "weekday       0\n",
      "weathersit    0\n",
      "temp          0\n",
      "atemp         0\n",
      "hum           0\n",
      "windspeed     0\n",
      "casual        0\n",
      "registered    0\n",
      "cnt           0\n",
      "dtype: int64\n"
     ]
    }
   ],
   "source": [
    "print(dataset3.isnull().sum())"
   ]
  },
  {
   "cell_type": "code",
   "execution_count": 127,
   "metadata": {},
   "outputs": [],
   "source": [
    "dataset3.drop('atemp', axis=1, inplace=True)"
   ]
  },
  {
   "cell_type": "code",
   "execution_count": 128,
   "metadata": {},
   "outputs": [],
   "source": [
    "dataset3.drop('instant', axis=1, inplace=True)"
   ]
  },
  {
   "cell_type": "code",
   "execution_count": 129,
   "metadata": {},
   "outputs": [],
   "source": [
    "dataset3['dteday'] = pd.to_datetime(dataset3['dteday'], dayfirst=True)\n",
    "dataset3['day'] = dataset3['dteday'].dt.day\n",
    "dataset3['month'] = dataset3['dteday'].dt.month\n",
    "dataset3['year'] = dataset3['dteday'].dt.year\n",
    "dataset3['dayofweek'] = dataset3['dteday'].dt.dayofweek"
   ]
  },
  {
   "cell_type": "code",
   "execution_count": 130,
   "metadata": {},
   "outputs": [],
   "source": [
    "dataset3.drop('dteday', axis=1, inplace=True)"
   ]
  },
  {
   "cell_type": "code",
   "execution_count": 131,
   "metadata": {},
   "outputs": [],
   "source": [
    "dataset3.drop(['yr', 'day', 'month', 'dayofweek'], axis=1, inplace=True)"
   ]
  },
  {
   "cell_type": "code",
   "execution_count": 132,
   "metadata": {},
   "outputs": [
    {
     "name": "stdout",
     "output_type": "stream",
     "text": [
      "   season  mnth  hr  holiday  weekday  weathersit  temp   hum  windspeed  \\\n",
      "0       1     1   1    False        6           1  0.22  0.64     0.1940   \n",
      "1       1     1   2    False        6           1  0.22  0.64     0.1642   \n",
      "2       1     1   3    False        6           1  0.20  0.64     0.1343   \n",
      "\n",
      "   casual  registered  cnt  year  \n",
      "0       0          20   20  2011  \n",
      "1       0          15   15  2011  \n",
      "2       3           5    8  2011  \n"
     ]
    }
   ],
   "source": [
    "print(dataset3.head(3))"
   ]
  },
  {
   "cell_type": "code",
   "execution_count": 133,
   "metadata": {},
   "outputs": [
    {
     "name": "stdout",
     "output_type": "stream",
     "text": [
      "season          int64\n",
      "mnth            int64\n",
      "hr              int64\n",
      "holiday          bool\n",
      "weekday         int64\n",
      "weathersit      int64\n",
      "temp          float64\n",
      "hum           float64\n",
      "windspeed     float64\n",
      "casual          int64\n",
      "registered      int64\n",
      "cnt             int64\n",
      "year            int32\n",
      "dtype: object\n"
     ]
    }
   ],
   "source": [
    "print(dataset3.dtypes)"
   ]
  },
  {
   "cell_type": "code",
   "execution_count": 134,
   "metadata": {},
   "outputs": [
    {
     "name": "stdout",
     "output_type": "stream",
     "text": [
      "       season        mnth          hr     weekday  weathersit        temp  \\\n",
      "count   390.0  390.000000  390.000000  390.000000  390.000000  390.000000   \n",
      "mean      1.0    1.800000   11.687179    2.989744    1.484615    0.220000   \n",
      "std       0.0    0.400514    6.980295    2.149884    0.663805    0.073095   \n",
      "min       1.0    1.000000    0.000000    0.000000    1.000000    0.060000   \n",
      "25%       1.0    2.000000    6.000000    1.000000    1.000000    0.160000   \n",
      "50%       1.0    2.000000   12.000000    3.000000    1.000000    0.220000   \n",
      "75%       1.0    2.000000   18.000000    5.000000    2.000000    0.260000   \n",
      "max       1.0    2.000000   23.000000    6.000000    3.000000    0.420000   \n",
      "\n",
      "              hum   windspeed      casual  registered         cnt    year  \n",
      "count  390.000000  390.000000  390.000000  390.000000  390.000000   390.0  \n",
      "mean     0.613769    0.179416    5.576923   57.002564   62.579487  2011.0  \n",
      "std      0.202361    0.138551    9.317478   49.070198   53.274838     0.0  \n",
      "min      0.210000    0.000000    0.000000    0.000000    1.000000  2011.0  \n",
      "25%      0.450000    0.089600    1.000000   17.000000   18.500000  2011.0  \n",
      "50%      0.600000    0.164200    3.000000   48.000000   52.000000  2011.0  \n",
      "75%      0.750000    0.283600    6.000000   83.750000   88.750000  2011.0  \n",
      "max      1.000000    0.582100   62.000000  236.000000  243.000000  2011.0  \n"
     ]
    }
   ],
   "source": [
    "print(dataset3.describe())"
   ]
  },
  {
   "cell_type": "code",
   "execution_count": 135,
   "metadata": {},
   "outputs": [],
   "source": [
    "dataset3.fillna(dataset3.mean(), inplace=True)"
   ]
  },
  {
   "cell_type": "code",
   "execution_count": 136,
   "metadata": {},
   "outputs": [],
   "source": [
    "numeric_cols = dataset3.select_dtypes(include=[np.number])\n",
    "Q1 = numeric_cols.quantile(0.25)\n",
    "Q3 = numeric_cols.quantile(0.75)\n",
    "IQR = Q3 - Q1\n",
    "dataset3_filtered = dataset3[~((numeric_cols < (Q1 - 1.5 * IQR)) | (numeric_cols > (Q3 + 1.5 * IQR))).any(axis=1)]"
   ]
  },
  {
   "cell_type": "code",
   "execution_count": 137,
   "metadata": {},
   "outputs": [
    {
     "name": "stdout",
     "output_type": "stream",
     "text": [
      "(271, 13)\n",
      "    season  mnth  hr  holiday  weekday  weathersit  temp   hum  windspeed  \\\n",
      "69       1     2   0    False        2           2  0.16  0.64     0.1045   \n",
      "70       1     2   1    False        2           2  0.16  0.69     0.1045   \n",
      "71       1     2   2    False        2           2  0.16  0.69     0.0000   \n",
      "72       1     2   3    False        2           2  0.16  0.69     0.0000   \n",
      "73       1     2   5    False        2           3  0.14  0.93     0.0000   \n",
      "\n",
      "    casual  registered  cnt  year  \n",
      "69       2           6    8  2011  \n",
      "70       0           3    3  2011  \n",
      "71       0           2    2  2011  \n",
      "72       0           2    2  2011  \n",
      "73       0           3    3  2011  \n"
     ]
    }
   ],
   "source": [
    "print(dataset3_filtered.shape)\n",
    "print(dataset3_filtered.head())"
   ]
  },
  {
   "cell_type": "markdown",
   "metadata": {},
   "source": [
    "Combining dataset-1 , dataset-2 , & dataset-3 ->"
   ]
  },
  {
   "cell_type": "code",
   "execution_count": 138,
   "metadata": {},
   "outputs": [],
   "source": [
    "combine_data2 = pd.concat([combine_data1, dataset3_filtered], ignore_index=True)"
   ]
  },
  {
   "cell_type": "code",
   "execution_count": 139,
   "metadata": {},
   "outputs": [
    {
     "name": "stdout",
     "output_type": "stream",
     "text": [
      "(271, 19)\n"
     ]
    }
   ],
   "source": [
    "print(combine_data2.shape)"
   ]
  },
  {
   "cell_type": "code",
   "execution_count": 140,
   "metadata": {},
   "outputs": [
    {
     "name": "stdout",
     "output_type": "stream",
     "text": [
      "   instant  season  yr  mnth   hr holiday  weekday  weathersit  temp  month  \\\n",
      "0      NaN     1.0 NaN   2.0  0.0     0.0      2.0         2.0  0.16    NaN   \n",
      "1      NaN     1.0 NaN   2.0  1.0     0.0      2.0         2.0  0.16    NaN   \n",
      "2      NaN     1.0 NaN   2.0  2.0     0.0      2.0         2.0  0.16    NaN   \n",
      "\n",
      "   quarter   hum  windspeed  casual  registered  cnt  hour  day    year  \n",
      "0      NaN  0.64     0.1045     2.0         6.0  8.0   NaN  NaN  2011.0  \n",
      "1      NaN  0.69     0.1045     0.0         3.0  3.0   NaN  NaN  2011.0  \n",
      "2      NaN  0.69     0.0000     0.0         2.0  2.0   NaN  NaN  2011.0  \n"
     ]
    }
   ],
   "source": [
    "print(combine_data2.head(3))"
   ]
  },
  {
   "cell_type": "code",
   "execution_count": 141,
   "metadata": {},
   "outputs": [
    {
     "name": "stdout",
     "output_type": "stream",
     "text": [
      "<class 'pandas.core.frame.DataFrame'>\n",
      "RangeIndex: 271 entries, 0 to 270\n",
      "Data columns (total 19 columns):\n",
      " #   Column      Non-Null Count  Dtype  \n",
      "---  ------      --------------  -----  \n",
      " 0   instant     0 non-null      float64\n",
      " 1   season      271 non-null    float64\n",
      " 2   yr          0 non-null      float64\n",
      " 3   mnth        271 non-null    float64\n",
      " 4   hr          271 non-null    float64\n",
      " 5   holiday     271 non-null    object \n",
      " 6   weekday     271 non-null    float64\n",
      " 7   weathersit  271 non-null    float64\n",
      " 8   temp        271 non-null    float64\n",
      " 9   month       0 non-null      float64\n",
      " 10  quarter     0 non-null      float64\n",
      " 11  hum         271 non-null    float64\n",
      " 12  windspeed   271 non-null    float64\n",
      " 13  casual      271 non-null    float64\n",
      " 14  registered  271 non-null    float64\n",
      " 15  cnt         271 non-null    float64\n",
      " 16  hour        0 non-null      float64\n",
      " 17  day         0 non-null      float64\n",
      " 18  year        271 non-null    float64\n",
      "dtypes: float64(18), object(1)\n",
      "memory usage: 40.4+ KB\n",
      "None\n"
     ]
    }
   ],
   "source": [
    "print(combine_data2.info())"
   ]
  },
  {
   "cell_type": "code",
   "execution_count": 142,
   "metadata": {},
   "outputs": [
    {
     "name": "stdout",
     "output_type": "stream",
     "text": [
      "       instant  season   yr   mnth          hr     weekday  weathersit  \\\n",
      "count      0.0   271.0  0.0  271.0  271.000000  271.000000  271.000000   \n",
      "mean       NaN     1.0  NaN    2.0   11.169742    3.180812    1.535055   \n",
      "std        NaN     0.0  NaN    0.0    7.300987    1.891639    0.713409   \n",
      "min        NaN     1.0  NaN    2.0    0.000000    0.000000    1.000000   \n",
      "25%        NaN     1.0  NaN    2.0    5.000000    2.000000    1.000000   \n",
      "50%        NaN     1.0  NaN    2.0   11.000000    3.000000    1.000000   \n",
      "75%        NaN     1.0  NaN    2.0   18.000000    5.000000    2.000000   \n",
      "max        NaN     1.0  NaN    2.0   23.000000    6.000000    3.000000   \n",
      "\n",
      "             temp  month  quarter         hum   windspeed      casual  \\\n",
      "count  271.000000    0.0      0.0  271.000000  271.000000  271.000000   \n",
      "mean     0.212841    NaN      NaN    0.625461    0.179221    2.963100   \n",
      "std      0.070198    NaN      NaN    0.214555    0.141021    2.998537   \n",
      "min      0.060000    NaN      NaN    0.210000    0.000000    0.000000   \n",
      "25%      0.160000    NaN      NaN    0.430000    0.089600    1.000000   \n",
      "50%      0.220000    NaN      NaN    0.610000    0.164200    2.000000   \n",
      "75%      0.240000    NaN      NaN    0.810000    0.283600    4.500000   \n",
      "max      0.400000    NaN      NaN    1.000000    0.552200   13.000000   \n",
      "\n",
      "       registered         cnt  hour  day    year  \n",
      "count  271.000000  271.000000   0.0  0.0   271.0  \n",
      "mean    48.822878   51.785978   NaN  NaN  2011.0  \n",
      "std     43.319891   44.581660   NaN  NaN     0.0  \n",
      "min      0.000000    1.000000   NaN  NaN  2011.0  \n",
      "25%     10.000000   12.000000   NaN  NaN  2011.0  \n",
      "50%     43.000000   47.000000   NaN  NaN  2011.0  \n",
      "75%     66.500000   72.000000   NaN  NaN  2011.0  \n",
      "max    183.000000  190.000000   NaN  NaN  2011.0  \n"
     ]
    }
   ],
   "source": [
    "print(combine_data2.describe())"
   ]
  },
  {
   "cell_type": "markdown",
   "metadata": {},
   "source": [
    "Data Wrangling"
   ]
  },
  {
   "cell_type": "code",
   "execution_count": 143,
   "metadata": {},
   "outputs": [
    {
     "name": "stdout",
     "output_type": "stream",
     "text": [
      "instant       271\n",
      "season          0\n",
      "yr            271\n",
      "mnth            0\n",
      "hr              0\n",
      "holiday         0\n",
      "weekday         0\n",
      "weathersit      0\n",
      "temp            0\n",
      "month         271\n",
      "quarter       271\n",
      "hum             0\n",
      "windspeed       0\n",
      "casual          0\n",
      "registered      0\n",
      "cnt             0\n",
      "hour          271\n",
      "day           271\n",
      "year            0\n",
      "dtype: int64\n"
     ]
    }
   ],
   "source": [
    "print(combine_data2.isnull().sum())"
   ]
  },
  {
   "cell_type": "code",
   "execution_count": 144,
   "metadata": {},
   "outputs": [],
   "source": [
    "combine_data2.drop(columns=['month'], inplace=True)"
   ]
  },
  {
   "cell_type": "code",
   "execution_count": 145,
   "metadata": {},
   "outputs": [],
   "source": [
    "combine_data2.drop(columns=['instant'], inplace=True)"
   ]
  },
  {
   "cell_type": "code",
   "execution_count": 146,
   "metadata": {},
   "outputs": [],
   "source": [
    "combine_data2.drop(columns=['yr'], inplace=True)"
   ]
  },
  {
   "cell_type": "code",
   "execution_count": 147,
   "metadata": {},
   "outputs": [],
   "source": [
    "combine_data2.drop(columns=['hour'], inplace=True)"
   ]
  },
  {
   "cell_type": "code",
   "execution_count": 148,
   "metadata": {},
   "outputs": [],
   "source": [
    "combine_data2.drop(columns=['quarter', 'day'], inplace=True)"
   ]
  },
  {
   "cell_type": "code",
   "execution_count": 149,
   "metadata": {},
   "outputs": [
    {
     "name": "stdout",
     "output_type": "stream",
     "text": [
      "season        0\n",
      "mnth          0\n",
      "hr            0\n",
      "holiday       0\n",
      "weekday       0\n",
      "weathersit    0\n",
      "temp          0\n",
      "hum           0\n",
      "windspeed     0\n",
      "casual        0\n",
      "registered    0\n",
      "cnt           0\n",
      "year          0\n",
      "dtype: int64\n"
     ]
    }
   ],
   "source": [
    "print(combine_data2.isnull().sum())"
   ]
  },
  {
   "cell_type": "code",
   "execution_count": 150,
   "metadata": {},
   "outputs": [],
   "source": [
    "combine_data2.rename(columns={'mnth': 'month', 'hr': 'hour', 'cnt': 'count'}, inplace=True)"
   ]
  },
  {
   "cell_type": "code",
   "execution_count": 151,
   "metadata": {},
   "outputs": [
    {
     "name": "stdout",
     "output_type": "stream",
     "text": [
      "season        0\n",
      "month         0\n",
      "hour          0\n",
      "holiday       0\n",
      "weekday       0\n",
      "weathersit    0\n",
      "temp          0\n",
      "hum           0\n",
      "windspeed     0\n",
      "casual        0\n",
      "registered    0\n",
      "count         0\n",
      "year          0\n",
      "dtype: int64\n"
     ]
    }
   ],
   "source": [
    "print(combine_data2.isnull().sum())"
   ]
  },
  {
   "cell_type": "code",
   "execution_count": 152,
   "metadata": {},
   "outputs": [
    {
     "name": "stdout",
     "output_type": "stream",
     "text": [
      "season        float64\n",
      "month         float64\n",
      "hour          float64\n",
      "holiday        object\n",
      "weekday       float64\n",
      "weathersit    float64\n",
      "temp          float64\n",
      "hum           float64\n",
      "windspeed     float64\n",
      "casual        float64\n",
      "registered    float64\n",
      "count         float64\n",
      "year          float64\n",
      "dtype: object\n"
     ]
    }
   ],
   "source": [
    "print(combine_data2.dtypes)"
   ]
  },
  {
   "cell_type": "markdown",
   "metadata": {},
   "source": [
    "Renaming it to Cleaned_data"
   ]
  },
  {
   "cell_type": "code",
   "execution_count": 153,
   "metadata": {},
   "outputs": [],
   "source": [
    "Cleaned_data = combine_data2"
   ]
  },
  {
   "cell_type": "code",
   "execution_count": 154,
   "metadata": {},
   "outputs": [
    {
     "data": {
      "text/html": [
       "<div>\n",
       "<style scoped>\n",
       "    .dataframe tbody tr th:only-of-type {\n",
       "        vertical-align: middle;\n",
       "    }\n",
       "\n",
       "    .dataframe tbody tr th {\n",
       "        vertical-align: top;\n",
       "    }\n",
       "\n",
       "    .dataframe thead th {\n",
       "        text-align: right;\n",
       "    }\n",
       "</style>\n",
       "<table border=\"1\" class=\"dataframe\">\n",
       "  <thead>\n",
       "    <tr style=\"text-align: right;\">\n",
       "      <th></th>\n",
       "      <th>season</th>\n",
       "      <th>month</th>\n",
       "      <th>hour</th>\n",
       "      <th>weekday</th>\n",
       "      <th>weathersit</th>\n",
       "      <th>temp</th>\n",
       "      <th>hum</th>\n",
       "      <th>windspeed</th>\n",
       "      <th>casual</th>\n",
       "      <th>registered</th>\n",
       "      <th>count</th>\n",
       "      <th>year</th>\n",
       "    </tr>\n",
       "  </thead>\n",
       "  <tbody>\n",
       "    <tr>\n",
       "      <th>count</th>\n",
       "      <td>271.0</td>\n",
       "      <td>271.0</td>\n",
       "      <td>271.000000</td>\n",
       "      <td>271.000000</td>\n",
       "      <td>271.000000</td>\n",
       "      <td>271.000000</td>\n",
       "      <td>271.000000</td>\n",
       "      <td>271.000000</td>\n",
       "      <td>271.000000</td>\n",
       "      <td>271.000000</td>\n",
       "      <td>271.000000</td>\n",
       "      <td>271.0</td>\n",
       "    </tr>\n",
       "    <tr>\n",
       "      <th>mean</th>\n",
       "      <td>1.0</td>\n",
       "      <td>2.0</td>\n",
       "      <td>11.169742</td>\n",
       "      <td>3.180812</td>\n",
       "      <td>1.535055</td>\n",
       "      <td>0.212841</td>\n",
       "      <td>0.625461</td>\n",
       "      <td>0.179221</td>\n",
       "      <td>2.963100</td>\n",
       "      <td>48.822878</td>\n",
       "      <td>51.785978</td>\n",
       "      <td>2011.0</td>\n",
       "    </tr>\n",
       "    <tr>\n",
       "      <th>std</th>\n",
       "      <td>0.0</td>\n",
       "      <td>0.0</td>\n",
       "      <td>7.300987</td>\n",
       "      <td>1.891639</td>\n",
       "      <td>0.713409</td>\n",
       "      <td>0.070198</td>\n",
       "      <td>0.214555</td>\n",
       "      <td>0.141021</td>\n",
       "      <td>2.998537</td>\n",
       "      <td>43.319891</td>\n",
       "      <td>44.581660</td>\n",
       "      <td>0.0</td>\n",
       "    </tr>\n",
       "    <tr>\n",
       "      <th>min</th>\n",
       "      <td>1.0</td>\n",
       "      <td>2.0</td>\n",
       "      <td>0.000000</td>\n",
       "      <td>0.000000</td>\n",
       "      <td>1.000000</td>\n",
       "      <td>0.060000</td>\n",
       "      <td>0.210000</td>\n",
       "      <td>0.000000</td>\n",
       "      <td>0.000000</td>\n",
       "      <td>0.000000</td>\n",
       "      <td>1.000000</td>\n",
       "      <td>2011.0</td>\n",
       "    </tr>\n",
       "    <tr>\n",
       "      <th>25%</th>\n",
       "      <td>1.0</td>\n",
       "      <td>2.0</td>\n",
       "      <td>5.000000</td>\n",
       "      <td>2.000000</td>\n",
       "      <td>1.000000</td>\n",
       "      <td>0.160000</td>\n",
       "      <td>0.430000</td>\n",
       "      <td>0.089600</td>\n",
       "      <td>1.000000</td>\n",
       "      <td>10.000000</td>\n",
       "      <td>12.000000</td>\n",
       "      <td>2011.0</td>\n",
       "    </tr>\n",
       "    <tr>\n",
       "      <th>50%</th>\n",
       "      <td>1.0</td>\n",
       "      <td>2.0</td>\n",
       "      <td>11.000000</td>\n",
       "      <td>3.000000</td>\n",
       "      <td>1.000000</td>\n",
       "      <td>0.220000</td>\n",
       "      <td>0.610000</td>\n",
       "      <td>0.164200</td>\n",
       "      <td>2.000000</td>\n",
       "      <td>43.000000</td>\n",
       "      <td>47.000000</td>\n",
       "      <td>2011.0</td>\n",
       "    </tr>\n",
       "    <tr>\n",
       "      <th>75%</th>\n",
       "      <td>1.0</td>\n",
       "      <td>2.0</td>\n",
       "      <td>18.000000</td>\n",
       "      <td>5.000000</td>\n",
       "      <td>2.000000</td>\n",
       "      <td>0.240000</td>\n",
       "      <td>0.810000</td>\n",
       "      <td>0.283600</td>\n",
       "      <td>4.500000</td>\n",
       "      <td>66.500000</td>\n",
       "      <td>72.000000</td>\n",
       "      <td>2011.0</td>\n",
       "    </tr>\n",
       "    <tr>\n",
       "      <th>max</th>\n",
       "      <td>1.0</td>\n",
       "      <td>2.0</td>\n",
       "      <td>23.000000</td>\n",
       "      <td>6.000000</td>\n",
       "      <td>3.000000</td>\n",
       "      <td>0.400000</td>\n",
       "      <td>1.000000</td>\n",
       "      <td>0.552200</td>\n",
       "      <td>13.000000</td>\n",
       "      <td>183.000000</td>\n",
       "      <td>190.000000</td>\n",
       "      <td>2011.0</td>\n",
       "    </tr>\n",
       "  </tbody>\n",
       "</table>\n",
       "</div>"
      ],
      "text/plain": [
       "       season  month        hour     weekday  weathersit        temp  \\\n",
       "count   271.0  271.0  271.000000  271.000000  271.000000  271.000000   \n",
       "mean      1.0    2.0   11.169742    3.180812    1.535055    0.212841   \n",
       "std       0.0    0.0    7.300987    1.891639    0.713409    0.070198   \n",
       "min       1.0    2.0    0.000000    0.000000    1.000000    0.060000   \n",
       "25%       1.0    2.0    5.000000    2.000000    1.000000    0.160000   \n",
       "50%       1.0    2.0   11.000000    3.000000    1.000000    0.220000   \n",
       "75%       1.0    2.0   18.000000    5.000000    2.000000    0.240000   \n",
       "max       1.0    2.0   23.000000    6.000000    3.000000    0.400000   \n",
       "\n",
       "              hum   windspeed      casual  registered       count    year  \n",
       "count  271.000000  271.000000  271.000000  271.000000  271.000000   271.0  \n",
       "mean     0.625461    0.179221    2.963100   48.822878   51.785978  2011.0  \n",
       "std      0.214555    0.141021    2.998537   43.319891   44.581660     0.0  \n",
       "min      0.210000    0.000000    0.000000    0.000000    1.000000  2011.0  \n",
       "25%      0.430000    0.089600    1.000000   10.000000   12.000000  2011.0  \n",
       "50%      0.610000    0.164200    2.000000   43.000000   47.000000  2011.0  \n",
       "75%      0.810000    0.283600    4.500000   66.500000   72.000000  2011.0  \n",
       "max      1.000000    0.552200   13.000000  183.000000  190.000000  2011.0  "
      ]
     },
     "execution_count": 154,
     "metadata": {},
     "output_type": "execute_result"
    }
   ],
   "source": [
    "Cleaned_data.describe()"
   ]
  },
  {
   "cell_type": "markdown",
   "metadata": {},
   "source": [
    "Skewness analysis :-"
   ]
  },
  {
   "cell_type": "code",
   "execution_count": 155,
   "metadata": {},
   "outputs": [
    {
     "name": "stdout",
     "output_type": "stream",
     "text": [
      "season             0.0\n",
      "month              0.0\n",
      "hour          0.097274\n",
      "holiday            0.0\n",
      "weekday      -0.090773\n",
      "weathersit    0.954792\n",
      "temp          0.414295\n",
      "hum           0.164515\n",
      "windspeed      0.61636\n",
      "casual        1.190867\n",
      "registered    1.131515\n",
      "count         1.055363\n",
      "year               0.0\n",
      "dtype: object\n"
     ]
    }
   ],
   "source": [
    "print(Cleaned_data.skew())"
   ]
  },
  {
   "cell_type": "code",
   "execution_count": 156,
   "metadata": {},
   "outputs": [
    {
     "data": {
      "text/html": [
       "<div>\n",
       "<style scoped>\n",
       "    .dataframe tbody tr th:only-of-type {\n",
       "        vertical-align: middle;\n",
       "    }\n",
       "\n",
       "    .dataframe tbody tr th {\n",
       "        vertical-align: top;\n",
       "    }\n",
       "\n",
       "    .dataframe thead th {\n",
       "        text-align: right;\n",
       "    }\n",
       "</style>\n",
       "<table border=\"1\" class=\"dataframe\">\n",
       "  <thead>\n",
       "    <tr style=\"text-align: right;\">\n",
       "      <th></th>\n",
       "      <th>season</th>\n",
       "      <th>month</th>\n",
       "      <th>hour</th>\n",
       "      <th>weekday</th>\n",
       "      <th>weathersit</th>\n",
       "      <th>temp</th>\n",
       "      <th>hum</th>\n",
       "      <th>windspeed</th>\n",
       "      <th>casual</th>\n",
       "      <th>registered</th>\n",
       "      <th>count</th>\n",
       "      <th>year</th>\n",
       "      <th>holiday_0.0</th>\n",
       "    </tr>\n",
       "  </thead>\n",
       "  <tbody>\n",
       "    <tr>\n",
       "      <th>0</th>\n",
       "      <td>1.0</td>\n",
       "      <td>2.0</td>\n",
       "      <td>0.0</td>\n",
       "      <td>2.0</td>\n",
       "      <td>2.0</td>\n",
       "      <td>0.16</td>\n",
       "      <td>0.64</td>\n",
       "      <td>0.1045</td>\n",
       "      <td>2.0</td>\n",
       "      <td>6.0</td>\n",
       "      <td>8.0</td>\n",
       "      <td>2011.0</td>\n",
       "      <td>True</td>\n",
       "    </tr>\n",
       "    <tr>\n",
       "      <th>1</th>\n",
       "      <td>1.0</td>\n",
       "      <td>2.0</td>\n",
       "      <td>1.0</td>\n",
       "      <td>2.0</td>\n",
       "      <td>2.0</td>\n",
       "      <td>0.16</td>\n",
       "      <td>0.69</td>\n",
       "      <td>0.1045</td>\n",
       "      <td>0.0</td>\n",
       "      <td>3.0</td>\n",
       "      <td>3.0</td>\n",
       "      <td>2011.0</td>\n",
       "      <td>True</td>\n",
       "    </tr>\n",
       "    <tr>\n",
       "      <th>2</th>\n",
       "      <td>1.0</td>\n",
       "      <td>2.0</td>\n",
       "      <td>2.0</td>\n",
       "      <td>2.0</td>\n",
       "      <td>2.0</td>\n",
       "      <td>0.16</td>\n",
       "      <td>0.69</td>\n",
       "      <td>0.0000</td>\n",
       "      <td>0.0</td>\n",
       "      <td>2.0</td>\n",
       "      <td>2.0</td>\n",
       "      <td>2011.0</td>\n",
       "      <td>True</td>\n",
       "    </tr>\n",
       "    <tr>\n",
       "      <th>3</th>\n",
       "      <td>1.0</td>\n",
       "      <td>2.0</td>\n",
       "      <td>3.0</td>\n",
       "      <td>2.0</td>\n",
       "      <td>2.0</td>\n",
       "      <td>0.16</td>\n",
       "      <td>0.69</td>\n",
       "      <td>0.0000</td>\n",
       "      <td>0.0</td>\n",
       "      <td>2.0</td>\n",
       "      <td>2.0</td>\n",
       "      <td>2011.0</td>\n",
       "      <td>True</td>\n",
       "    </tr>\n",
       "    <tr>\n",
       "      <th>4</th>\n",
       "      <td>1.0</td>\n",
       "      <td>2.0</td>\n",
       "      <td>5.0</td>\n",
       "      <td>2.0</td>\n",
       "      <td>3.0</td>\n",
       "      <td>0.14</td>\n",
       "      <td>0.93</td>\n",
       "      <td>0.0000</td>\n",
       "      <td>0.0</td>\n",
       "      <td>3.0</td>\n",
       "      <td>3.0</td>\n",
       "      <td>2011.0</td>\n",
       "      <td>True</td>\n",
       "    </tr>\n",
       "    <tr>\n",
       "      <th>...</th>\n",
       "      <td>...</td>\n",
       "      <td>...</td>\n",
       "      <td>...</td>\n",
       "      <td>...</td>\n",
       "      <td>...</td>\n",
       "      <td>...</td>\n",
       "      <td>...</td>\n",
       "      <td>...</td>\n",
       "      <td>...</td>\n",
       "      <td>...</td>\n",
       "      <td>...</td>\n",
       "      <td>...</td>\n",
       "      <td>...</td>\n",
       "    </tr>\n",
       "    <tr>\n",
       "      <th>266</th>\n",
       "      <td>1.0</td>\n",
       "      <td>2.0</td>\n",
       "      <td>3.0</td>\n",
       "      <td>1.0</td>\n",
       "      <td>1.0</td>\n",
       "      <td>0.34</td>\n",
       "      <td>0.46</td>\n",
       "      <td>0.2239</td>\n",
       "      <td>1.0</td>\n",
       "      <td>1.0</td>\n",
       "      <td>2.0</td>\n",
       "      <td>2011.0</td>\n",
       "      <td>True</td>\n",
       "    </tr>\n",
       "    <tr>\n",
       "      <th>267</th>\n",
       "      <td>1.0</td>\n",
       "      <td>2.0</td>\n",
       "      <td>4.0</td>\n",
       "      <td>1.0</td>\n",
       "      <td>1.0</td>\n",
       "      <td>0.32</td>\n",
       "      <td>0.53</td>\n",
       "      <td>0.2836</td>\n",
       "      <td>0.0</td>\n",
       "      <td>2.0</td>\n",
       "      <td>2.0</td>\n",
       "      <td>2011.0</td>\n",
       "      <td>True</td>\n",
       "    </tr>\n",
       "    <tr>\n",
       "      <th>268</th>\n",
       "      <td>1.0</td>\n",
       "      <td>2.0</td>\n",
       "      <td>5.0</td>\n",
       "      <td>1.0</td>\n",
       "      <td>1.0</td>\n",
       "      <td>0.32</td>\n",
       "      <td>0.53</td>\n",
       "      <td>0.2836</td>\n",
       "      <td>0.0</td>\n",
       "      <td>3.0</td>\n",
       "      <td>3.0</td>\n",
       "      <td>2011.0</td>\n",
       "      <td>True</td>\n",
       "    </tr>\n",
       "    <tr>\n",
       "      <th>269</th>\n",
       "      <td>1.0</td>\n",
       "      <td>2.0</td>\n",
       "      <td>6.0</td>\n",
       "      <td>1.0</td>\n",
       "      <td>1.0</td>\n",
       "      <td>0.34</td>\n",
       "      <td>0.46</td>\n",
       "      <td>0.2985</td>\n",
       "      <td>1.0</td>\n",
       "      <td>25.0</td>\n",
       "      <td>26.0</td>\n",
       "      <td>2011.0</td>\n",
       "      <td>True</td>\n",
       "    </tr>\n",
       "    <tr>\n",
       "      <th>270</th>\n",
       "      <td>1.0</td>\n",
       "      <td>2.0</td>\n",
       "      <td>7.0</td>\n",
       "      <td>1.0</td>\n",
       "      <td>1.0</td>\n",
       "      <td>0.34</td>\n",
       "      <td>0.46</td>\n",
       "      <td>0.2985</td>\n",
       "      <td>2.0</td>\n",
       "      <td>96.0</td>\n",
       "      <td>98.0</td>\n",
       "      <td>2011.0</td>\n",
       "      <td>True</td>\n",
       "    </tr>\n",
       "  </tbody>\n",
       "</table>\n",
       "<p>271 rows × 13 columns</p>\n",
       "</div>"
      ],
      "text/plain": [
       "     season  month  hour  weekday  weathersit  temp   hum  windspeed  casual  \\\n",
       "0       1.0    2.0   0.0      2.0         2.0  0.16  0.64     0.1045     2.0   \n",
       "1       1.0    2.0   1.0      2.0         2.0  0.16  0.69     0.1045     0.0   \n",
       "2       1.0    2.0   2.0      2.0         2.0  0.16  0.69     0.0000     0.0   \n",
       "3       1.0    2.0   3.0      2.0         2.0  0.16  0.69     0.0000     0.0   \n",
       "4       1.0    2.0   5.0      2.0         3.0  0.14  0.93     0.0000     0.0   \n",
       "..      ...    ...   ...      ...         ...   ...   ...        ...     ...   \n",
       "266     1.0    2.0   3.0      1.0         1.0  0.34  0.46     0.2239     1.0   \n",
       "267     1.0    2.0   4.0      1.0         1.0  0.32  0.53     0.2836     0.0   \n",
       "268     1.0    2.0   5.0      1.0         1.0  0.32  0.53     0.2836     0.0   \n",
       "269     1.0    2.0   6.0      1.0         1.0  0.34  0.46     0.2985     1.0   \n",
       "270     1.0    2.0   7.0      1.0         1.0  0.34  0.46     0.2985     2.0   \n",
       "\n",
       "     registered  count    year  holiday_0.0  \n",
       "0           6.0    8.0  2011.0         True  \n",
       "1           3.0    3.0  2011.0         True  \n",
       "2           2.0    2.0  2011.0         True  \n",
       "3           2.0    2.0  2011.0         True  \n",
       "4           3.0    3.0  2011.0         True  \n",
       "..          ...    ...     ...          ...  \n",
       "266         1.0    2.0  2011.0         True  \n",
       "267         2.0    2.0  2011.0         True  \n",
       "268         3.0    3.0  2011.0         True  \n",
       "269        25.0   26.0  2011.0         True  \n",
       "270        96.0   98.0  2011.0         True  \n",
       "\n",
       "[271 rows x 13 columns]"
      ]
     },
     "execution_count": 156,
     "metadata": {},
     "output_type": "execute_result"
    }
   ],
   "source": [
    "pd.get_dummies(Cleaned_data, columns=['holiday'])"
   ]
  },
  {
   "cell_type": "code",
   "execution_count": 157,
   "metadata": {},
   "outputs": [
    {
     "name": "stdout",
     "output_type": "stream",
     "text": [
      "Index(['season', 'month', 'holiday', 'year'], dtype='object')\n"
     ]
    }
   ],
   "source": [
    "constant_columns = Cleaned_data.columns[Cleaned_data.nunique() == 1]\n",
    "print(constant_columns)"
   ]
  },
  {
   "cell_type": "code",
   "execution_count": 158,
   "metadata": {},
   "outputs": [],
   "source": [
    "Cleaned_data = Cleaned_data.drop(columns=constant_columns)"
   ]
  },
  {
   "cell_type": "markdown",
   "metadata": {},
   "source": [
    "Correlation Analysis :-"
   ]
  },
  {
   "cell_type": "code",
   "execution_count": 172,
   "metadata": {},
   "outputs": [
    {
     "name": "stdout",
     "output_type": "stream",
     "text": [
      "                hour   weekday  weathersit      temp       hum  windspeed  \\\n",
      "hour        1.000000  0.064545   -0.122741  0.247502 -0.206933   0.110144   \n",
      "weekday     0.064545  1.000000    0.120160 -0.351131  0.062349  -0.040281   \n",
      "weathersit -0.122741  0.120160    1.000000 -0.031209  0.620363  -0.278077   \n",
      "temp        0.247502 -0.351131   -0.031209  1.000000  0.019376   0.180670   \n",
      "hum        -0.206933  0.062349    0.620363  0.019376  1.000000  -0.440822   \n",
      "windspeed   0.110144 -0.040281   -0.278077  0.180670 -0.440822   1.000000   \n",
      "casual      0.373157  0.037094   -0.103275  0.361558 -0.181776   0.055044   \n",
      "registered  0.477851  0.073612   -0.098309  0.096577 -0.206517   0.172959   \n",
      "count       0.489425  0.074023   -0.102473  0.118162 -0.212899   0.171766   \n",
      "\n",
      "              casual  registered     count  \n",
      "hour        0.373157    0.477851  0.489425  \n",
      "weekday     0.037094    0.073612  0.074023  \n",
      "weathersit -0.103275   -0.098309 -0.102473  \n",
      "temp        0.361558    0.096577  0.118162  \n",
      "hum        -0.181776   -0.206517 -0.212899  \n",
      "windspeed   0.055044    0.172959  0.171766  \n",
      "casual      1.000000    0.392314  0.448470  \n",
      "registered  0.392314    1.000000  0.998084  \n",
      "count       0.448470    0.998084  1.000000  \n"
     ]
    }
   ],
   "source": [
    "corr = Cleaned_data.corr()\n",
    "print(corr)\n"
   ]
  },
  {
   "cell_type": "code",
   "execution_count": 177,
   "metadata": {},
   "outputs": [
    {
     "name": "stdout",
     "output_type": "stream",
     "text": [
      "\n",
      "Alternative View:\n",
      "registered  count         0.998084\n",
      "count       registered    0.998084\n",
      "dtype: float64\n"
     ]
    }
   ],
   "source": [
    "significant_corr = corr[(corr >= 0.7) & (corr < 1) | (corr <= -0.7)]\n",
    "\n",
    "print(\"\\nAlternative View:\")\n",
    "print(significant_corr.stack())"
   ]
  },
  {
   "cell_type": "code",
   "execution_count": 186,
   "metadata": {},
   "outputs": [
    {
     "data": {
      "image/png": "[encoded data removed]",
      "text/plain": [
       "<Figure size 640x480 with 1 Axes>"
      ]
     },
     "metadata": {},
     "output_type": "display_data"
    }
   ],
   "source": [
    "sns.scatterplot(x='temp', y='hum', data=Cleaned_data)\n",
    "plt.title('Temperature vs Humidity')\n",
    "plt.tight_layout()\n",
    "plt.savefig('temp vs hum.png', dpi=300, bbox_inches='tight')\n",
    "plt.show()"
   ]
  },
  {
   "cell_type": "code",
   "execution_count": 182,
   "metadata": {},
   "outputs": [
    {
     "name": "stdout",
     "output_type": "stream",
     "text": [
      "           n         r          CI95%     p-val\n",
      "pearson  271  0.112162  [-0.01, 0.23]  0.065728\n"
     ]
    }
   ],
   "source": [
    "import pingouin as pg\n",
    "\n",
    "data = Cleaned_data[['temp', 'hum', 'windspeed']]\n",
    "\n",
    "partial_corr_coef = pg.partial_corr(data, x='temp', y='hum', covar='windspeed')\n",
    "print(partial_corr_coef)"
   ]
  },
  {
   "cell_type": "markdown",
   "metadata": {},
   "source": [
    "Correlation Heatmap :-"
   ]
  },
  {
   "cell_type": "code",
   "execution_count": 185,
   "metadata": {},
   "outputs": [
    {
     "data": {
      "image/png": "[encoded data removed]",
      "text/plain": [
       "<Figure size 800x600 with 2 Axes>"
      ]
     },
     "metadata": {},
     "output_type": "display_data"
    }
   ],
   "source": [
    "import seaborn as sns\n",
    "import matplotlib.pyplot as plt\n",
    "import pandas as pd\n",
    "\n",
    "corr = Cleaned_data.corr()\n",
    "plt.figure(figsize=(8, 6))\n",
    "sns.heatmap(corr, annot=True, cmap='coolwarm', square=True)\n",
    "plt.title('Correlation Matrix')\n",
    "plt.tight_layout()\n",
    "plt.savefig('heatmap.png', dpi=300, bbox_inches='tight')\n",
    "plt.show()\n"
   ]
  },
  {
   "cell_type": "markdown",
   "metadata": {},
   "source": [
    "Histograms of Data :-"
   ]
  },
  {
   "cell_type": "code",
   "execution_count": 161,
   "metadata": {},
   "outputs": [
    {
     "data": {
      "image/png": "[encoded data removed]",
      "text/plain": [
       "<Figure size 800x1000 with 4 Axes>"
      ]
     },
     "metadata": {},
     "output_type": "display_data"
    }
   ],
   "source": [
    "\n",
    "key_features = ['temp', 'hum', 'windspeed', 'count']\n",
    "fig, axes = plt.subplots(nrows=len(key_features), figsize=(8, 10))\n",
    "for i, feature in enumerate(key_features):\n",
    "    Cleaned_data[feature].hist(ax=axes[i], bins=20)\n",
    "    axes[i].set_title(f'Histogram of {feature}')\n",
    "    axes[i].set_xlabel(feature)\n",
    "    axes[i].set_ylabel('Frequency')\n",
    "plt.tight_layout()\n",
    "plt.savefig('histograms.png', dpi=300, bbox_inches='tight')\n",
    "plt.show()"
   ]
  }
 ],
 "metadata": {
  "kernelspec": {
   "display_name": "Python 3",
   "language": "python",
   "name": "python3"
  },
  "language_info": {
   "codemirror_mode": {
    "name": "ipython",
    "version": 3
   },
   "file_extension": ".py",
   "mimetype": "text/x-python",
   "name": "python",
   "nbconvert_exporter": "python",
   "pygments_lexer": "ipython3",
   "version": "3.12.4"
  }
 },
 "nbformat": 4,
 "nbformat_minor": 2
}
